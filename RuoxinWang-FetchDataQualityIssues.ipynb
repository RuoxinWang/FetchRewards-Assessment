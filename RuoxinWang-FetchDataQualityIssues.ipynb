{
 "cells": [
  {
   "cell_type": "code",
   "execution_count": 1,
   "id": "34f07100",
   "metadata": {},
   "outputs": [],
   "source": [
    "import pandas as pd\n",
    "import numpy as np\n",
    "import matplotlib.pyplot as plt\n",
    "import seaborn as sns\n",
    "from datetime import datetime"
   ]
  },
  {
   "cell_type": "markdown",
   "id": "5f5f0519",
   "metadata": {},
   "source": [
    "# Part 1: Users Dataset"
   ]
  },
  {
   "cell_type": "markdown",
   "id": "47c96d2b",
   "metadata": {},
   "source": [
    "## Import Dataset"
   ]
  },
  {
   "cell_type": "code",
   "execution_count": 2,
   "id": "93bf7326",
   "metadata": {},
   "outputs": [
    {
     "data": {
      "text/html": [
       "<div>\n",
       "<style scoped>\n",
       "    .dataframe tbody tr th:only-of-type {\n",
       "        vertical-align: middle;\n",
       "    }\n",
       "\n",
       "    .dataframe tbody tr th {\n",
       "        vertical-align: top;\n",
       "    }\n",
       "\n",
       "    .dataframe thead th {\n",
       "        text-align: right;\n",
       "    }\n",
       "</style>\n",
       "<table border=\"1\" class=\"dataframe\">\n",
       "  <thead>\n",
       "    <tr style=\"text-align: right;\">\n",
       "      <th></th>\n",
       "      <th>_id</th>\n",
       "      <th>active</th>\n",
       "      <th>createdDate</th>\n",
       "      <th>lastLogin</th>\n",
       "      <th>role</th>\n",
       "      <th>signUpSource</th>\n",
       "      <th>state</th>\n",
       "    </tr>\n",
       "  </thead>\n",
       "  <tbody>\n",
       "    <tr>\n",
       "      <th>0</th>\n",
       "      <td>5ff1e194b6a9d73a3a9f1052</td>\n",
       "      <td>True</td>\n",
       "      <td>2021-01-03 07:24:04.800</td>\n",
       "      <td>2021-01-03 07:25:37.858</td>\n",
       "      <td>consumer</td>\n",
       "      <td>Email</td>\n",
       "      <td>WI</td>\n",
       "    </tr>\n",
       "    <tr>\n",
       "      <th>1</th>\n",
       "      <td>5ff1e194b6a9d73a3a9f1052</td>\n",
       "      <td>True</td>\n",
       "      <td>2021-01-03 07:24:04.800</td>\n",
       "      <td>2021-01-03 07:25:37.858</td>\n",
       "      <td>consumer</td>\n",
       "      <td>Email</td>\n",
       "      <td>WI</td>\n",
       "    </tr>\n",
       "    <tr>\n",
       "      <th>2</th>\n",
       "      <td>5ff1e194b6a9d73a3a9f1052</td>\n",
       "      <td>True</td>\n",
       "      <td>2021-01-03 07:24:04.800</td>\n",
       "      <td>2021-01-03 07:25:37.858</td>\n",
       "      <td>consumer</td>\n",
       "      <td>Email</td>\n",
       "      <td>WI</td>\n",
       "    </tr>\n",
       "    <tr>\n",
       "      <th>3</th>\n",
       "      <td>5ff1e1eacfcf6c399c274ae6</td>\n",
       "      <td>True</td>\n",
       "      <td>2021-01-03 07:25:30.554</td>\n",
       "      <td>2021-01-03 07:25:30.597</td>\n",
       "      <td>consumer</td>\n",
       "      <td>Email</td>\n",
       "      <td>WI</td>\n",
       "    </tr>\n",
       "    <tr>\n",
       "      <th>4</th>\n",
       "      <td>5ff1e194b6a9d73a3a9f1052</td>\n",
       "      <td>True</td>\n",
       "      <td>2021-01-03 07:24:04.800</td>\n",
       "      <td>2021-01-03 07:25:37.858</td>\n",
       "      <td>consumer</td>\n",
       "      <td>Email</td>\n",
       "      <td>WI</td>\n",
       "    </tr>\n",
       "  </tbody>\n",
       "</table>\n",
       "</div>"
      ],
      "text/plain": [
       "                        _id  active              createdDate  \\\n",
       "0  5ff1e194b6a9d73a3a9f1052    True  2021-01-03 07:24:04.800   \n",
       "1  5ff1e194b6a9d73a3a9f1052    True  2021-01-03 07:24:04.800   \n",
       "2  5ff1e194b6a9d73a3a9f1052    True  2021-01-03 07:24:04.800   \n",
       "3  5ff1e1eacfcf6c399c274ae6    True  2021-01-03 07:25:30.554   \n",
       "4  5ff1e194b6a9d73a3a9f1052    True  2021-01-03 07:24:04.800   \n",
       "\n",
       "                 lastLogin      role signUpSource state  \n",
       "0  2021-01-03 07:25:37.858  consumer        Email    WI  \n",
       "1  2021-01-03 07:25:37.858  consumer        Email    WI  \n",
       "2  2021-01-03 07:25:37.858  consumer        Email    WI  \n",
       "3  2021-01-03 07:25:30.597  consumer        Email    WI  \n",
       "4  2021-01-03 07:25:37.858  consumer        Email    WI  "
      ]
     },
     "execution_count": 2,
     "metadata": {},
     "output_type": "execute_result"
    }
   ],
   "source": [
    "df_user = pd.read_csv('users.csv')\n",
    "df_user.head()"
   ]
  },
  {
   "cell_type": "code",
   "execution_count": 3,
   "id": "8e013d0a",
   "metadata": {},
   "outputs": [
    {
     "name": "stdout",
     "output_type": "stream",
     "text": [
      "<class 'pandas.core.frame.DataFrame'>\n",
      "RangeIndex: 495 entries, 0 to 494\n",
      "Data columns (total 7 columns):\n",
      " #   Column        Non-Null Count  Dtype \n",
      "---  ------        --------------  ----- \n",
      " 0   _id           495 non-null    object\n",
      " 1   active        495 non-null    bool  \n",
      " 2   createdDate   495 non-null    object\n",
      " 3   lastLogin     433 non-null    object\n",
      " 4   role          495 non-null    object\n",
      " 5   signUpSource  447 non-null    object\n",
      " 6   state         439 non-null    object\n",
      "dtypes: bool(1), object(6)\n",
      "memory usage: 23.8+ KB\n"
     ]
    }
   ],
   "source": [
    "df_user.info()"
   ]
  },
  {
   "cell_type": "markdown",
   "id": "b3aa2479",
   "metadata": {},
   "source": [
    "## Check Missing Values And Percentage"
   ]
  },
  {
   "cell_type": "code",
   "execution_count": 4,
   "id": "56449242",
   "metadata": {},
   "outputs": [
    {
     "data": {
      "text/plain": [
       "_id              0\n",
       "active           0\n",
       "createdDate      0\n",
       "lastLogin       62\n",
       "role             0\n",
       "signUpSource    48\n",
       "state           56\n",
       "dtype: int64"
      ]
     },
     "execution_count": 4,
     "metadata": {},
     "output_type": "execute_result"
    }
   ],
   "source": [
    "# Check missing values\n",
    "df_user.isnull().sum()\n"
   ]
  },
  {
   "cell_type": "code",
   "execution_count": 5,
   "id": "621d9ee0",
   "metadata": {},
   "outputs": [
    {
     "name": "stdout",
     "output_type": "stream",
     "text": [
      "lastLogin --> 12.53%\n",
      "signUpSource --> 9.70%\n",
      "state --> 11.31%\n"
     ]
    }
   ],
   "source": [
    "# Percentage of missing value\n",
    "null_values_percentage = df_user.isnull().mean()\n",
    "for key, value in null_values_percentage.items():\n",
    "    if value > 0:\n",
    "        print(key, '-->', format(value, '.2%'))"
   ]
  },
  {
   "cell_type": "markdown",
   "id": "a730fd0a",
   "metadata": {},
   "source": [
    "Some rows has missing values but the percentage of the missing values is not that larage"
   ]
  },
  {
   "cell_type": "markdown",
   "id": "21807d51",
   "metadata": {},
   "source": [
    "## Check Duplicate"
   ]
  },
  {
   "cell_type": "code",
   "execution_count": 6,
   "id": "4c9321ce",
   "metadata": {
    "scrolled": false
   },
   "outputs": [
    {
     "name": "stdout",
     "output_type": "stream",
     "text": [
      "Total row count: \n",
      "_id             495\n",
      "active          495\n",
      "createdDate     495\n",
      "lastLogin       433\n",
      "role            495\n",
      "signUpSource    447\n",
      "state           439\n",
      "dtype: int64\n",
      "Total duplicated row count:  \n",
      "_id             283\n",
      "active          493\n",
      "createdDate     283\n",
      "lastLogin       261\n",
      "role            493\n",
      "signUpSource    445\n",
      "state           431\n",
      "dtype: int64\n",
      "Percentage of duplicated row: \n",
      "_id             57.17\n",
      "active          99.60\n",
      "createdDate     57.17\n",
      "lastLogin       60.28\n",
      "role            99.60\n",
      "signUpSource    99.55\n",
      "state           98.18\n",
      "dtype: float64\n"
     ]
    }
   ],
   "source": [
    "row_count = df_user.count()\n",
    "duplicate_row_count = df_user.count() - df_user.nunique()\n",
    "percentage = round((duplicate_row_count/row_count)*100, 2)\n",
    "print('Total row count: ')\n",
    "print(row_count)\n",
    "print('Total duplicated row count:  ')\n",
    "print(duplicate_row_count)\n",
    "print('Percentage of duplicated row: ')\n",
    "print(percentage)"
   ]
  },
  {
   "cell_type": "markdown",
   "id": "8814ffc1",
   "metadata": {},
   "source": [
    "There are 57% of user id records are duplicate"
   ]
  },
  {
   "cell_type": "markdown",
   "id": "84930f86",
   "metadata": {},
   "source": [
    "## Check Time Conflict Between CreatedDate And LastLogin"
   ]
  },
  {
   "cell_type": "code",
   "execution_count": 7,
   "id": "8ee03ada",
   "metadata": {},
   "outputs": [
    {
     "name": "stdout",
     "output_type": "stream",
     "text": [
      "All rows are valid.\n"
     ]
    }
   ],
   "source": [
    "df_user['createdDate'] = pd.to_datetime(df_user['createdDate'])\n",
    "df_user['lastLogin'] = pd.to_datetime(df_user['lastLogin'])\n",
    "\n",
    "invalid_rows = df_user[df_user['createdDate'] >= df_user['lastLogin']]\n",
    "\n",
    "if invalid_rows.empty:\n",
    "    print(\"All rows are valid.\")\n",
    "else:\n",
    "    print(\"Invalid rows:\")\n",
    "    print(invalid_rows)\n"
   ]
  },
  {
   "cell_type": "markdown",
   "id": "95dea3e8",
   "metadata": {},
   "source": [
    "This step is to make sure createdDate is before lastLogin for all records. There is no time conflict in this dataset"
   ]
  },
  {
   "cell_type": "markdown",
   "id": "a0d70516",
   "metadata": {},
   "source": [
    "## Data Exploratory Analysis"
   ]
  },
  {
   "cell_type": "code",
   "execution_count": 8,
   "id": "007113af",
   "metadata": {},
   "outputs": [
    {
     "data": {
      "text/html": [
       "<div>\n",
       "<style scoped>\n",
       "    .dataframe tbody tr th:only-of-type {\n",
       "        vertical-align: middle;\n",
       "    }\n",
       "\n",
       "    .dataframe tbody tr th {\n",
       "        vertical-align: top;\n",
       "    }\n",
       "\n",
       "    .dataframe thead th {\n",
       "        text-align: right;\n",
       "    }\n",
       "</style>\n",
       "<table border=\"1\" class=\"dataframe\">\n",
       "  <thead>\n",
       "    <tr style=\"text-align: right;\">\n",
       "      <th></th>\n",
       "      <th>_id</th>\n",
       "      <th>active</th>\n",
       "      <th>createdDate</th>\n",
       "      <th>lastLogin</th>\n",
       "      <th>role</th>\n",
       "      <th>signUpSource</th>\n",
       "      <th>state</th>\n",
       "    </tr>\n",
       "  </thead>\n",
       "  <tbody>\n",
       "    <tr>\n",
       "      <th>0</th>\n",
       "      <td>5ff1e194b6a9d73a3a9f1052</td>\n",
       "      <td>True</td>\n",
       "      <td>2021-01</td>\n",
       "      <td>2021-01-03 07:25:37.858</td>\n",
       "      <td>consumer</td>\n",
       "      <td>Email</td>\n",
       "      <td>WI</td>\n",
       "    </tr>\n",
       "    <tr>\n",
       "      <th>1</th>\n",
       "      <td>5ff1e194b6a9d73a3a9f1052</td>\n",
       "      <td>True</td>\n",
       "      <td>2021-01</td>\n",
       "      <td>2021-01-03 07:25:37.858</td>\n",
       "      <td>consumer</td>\n",
       "      <td>Email</td>\n",
       "      <td>WI</td>\n",
       "    </tr>\n",
       "    <tr>\n",
       "      <th>2</th>\n",
       "      <td>5ff1e194b6a9d73a3a9f1052</td>\n",
       "      <td>True</td>\n",
       "      <td>2021-01</td>\n",
       "      <td>2021-01-03 07:25:37.858</td>\n",
       "      <td>consumer</td>\n",
       "      <td>Email</td>\n",
       "      <td>WI</td>\n",
       "    </tr>\n",
       "    <tr>\n",
       "      <th>3</th>\n",
       "      <td>5ff1e1eacfcf6c399c274ae6</td>\n",
       "      <td>True</td>\n",
       "      <td>2021-01</td>\n",
       "      <td>2021-01-03 07:25:30.597</td>\n",
       "      <td>consumer</td>\n",
       "      <td>Email</td>\n",
       "      <td>WI</td>\n",
       "    </tr>\n",
       "    <tr>\n",
       "      <th>4</th>\n",
       "      <td>5ff1e194b6a9d73a3a9f1052</td>\n",
       "      <td>True</td>\n",
       "      <td>2021-01</td>\n",
       "      <td>2021-01-03 07:25:37.858</td>\n",
       "      <td>consumer</td>\n",
       "      <td>Email</td>\n",
       "      <td>WI</td>\n",
       "    </tr>\n",
       "  </tbody>\n",
       "</table>\n",
       "</div>"
      ],
      "text/plain": [
       "                        _id  active createdDate               lastLogin  \\\n",
       "0  5ff1e194b6a9d73a3a9f1052    True     2021-01 2021-01-03 07:25:37.858   \n",
       "1  5ff1e194b6a9d73a3a9f1052    True     2021-01 2021-01-03 07:25:37.858   \n",
       "2  5ff1e194b6a9d73a3a9f1052    True     2021-01 2021-01-03 07:25:37.858   \n",
       "3  5ff1e1eacfcf6c399c274ae6    True     2021-01 2021-01-03 07:25:30.597   \n",
       "4  5ff1e194b6a9d73a3a9f1052    True     2021-01 2021-01-03 07:25:37.858   \n",
       "\n",
       "       role signUpSource state  \n",
       "0  consumer        Email    WI  \n",
       "1  consumer        Email    WI  \n",
       "2  consumer        Email    WI  \n",
       "3  consumer        Email    WI  \n",
       "4  consumer        Email    WI  "
      ]
     },
     "execution_count": 8,
     "metadata": {},
     "output_type": "execute_result"
    }
   ],
   "source": [
    "df_user['createdDate'] = pd.to_datetime(df_user.createdDate, format='%Y-%m-%d')\n",
    "df_user['createdDate'] = df_user['createdDate'].dt.to_period('M')\n",
    "df_user.head()"
   ]
  },
  {
   "cell_type": "code",
   "execution_count": 9,
   "id": "ebc27d8c",
   "metadata": {},
   "outputs": [
    {
     "data": {
      "text/plain": [
       "createdDate\n",
       "2014-12    20\n",
       "2015-04     1\n",
       "2017-07     1\n",
       "2017-09    18\n",
       "2017-12     8\n",
       "Freq: M, Name: _id, dtype: int64"
      ]
     },
     "execution_count": 9,
     "metadata": {},
     "output_type": "execute_result"
    }
   ],
   "source": [
    "df1 = df_user.groupby('createdDate').agg('count')['_id']\n",
    "df1.head()"
   ]
  },
  {
   "cell_type": "code",
   "execution_count": 10,
   "id": "26dda154",
   "metadata": {
    "scrolled": false
   },
   "outputs": [
    {
     "data": {
      "image/png": "[encoded data removed]",
      "text/plain": [
       "<Figure size 2160x1080 with 1 Axes>"
      ]
     },
     "metadata": {
      "needs_background": "light"
     },
     "output_type": "display_data"
    }
   ],
   "source": [
    "fig, ax1 = plt.subplots(figsize=(30,15))\n",
    "fig.suptitle('Trend of user created', fontsize=40)\n",
    "df1.plot(linewidth=5)\n",
    "ax1.set_xlabel('Date', fontsize=28)\n",
    "ax1.set_ylabel('Total Number Of User Created', fontsize=28)\n",
    "\n",
    "plt.xticks(size=20)\n",
    "plt.yticks(size=20)\n",
    "\n",
    "plt.show()"
   ]
  },
  {
   "cell_type": "markdown",
   "id": "692f45f6",
   "metadata": {},
   "source": [
    "The graph show the trnd of total number of users created of each time."
   ]
  },
  {
   "cell_type": "markdown",
   "id": "369b448c",
   "metadata": {},
   "source": [
    "## Data Quality Issue"
   ]
  },
  {
   "cell_type": "markdown",
   "id": "60e60756",
   "metadata": {},
   "source": [
    "\n",
    "- Some records has missing values but the proportion of missing values is not too big\n",
    "- Data is heavily duplicated, with 57% of records are duplicated"
   ]
  },
  {
   "cell_type": "markdown",
   "id": "deed1992",
   "metadata": {},
   "source": [
    "# Part 2: Brands Dataset"
   ]
  },
  {
   "cell_type": "markdown",
   "id": "39a04fa8",
   "metadata": {},
   "source": [
    "## Import Dataset"
   ]
  },
  {
   "cell_type": "code",
   "execution_count": 11,
   "id": "bc75167c",
   "metadata": {},
   "outputs": [
    {
     "data": {
      "text/html": [
       "<div>\n",
       "<style scoped>\n",
       "    .dataframe tbody tr th:only-of-type {\n",
       "        vertical-align: middle;\n",
       "    }\n",
       "\n",
       "    .dataframe tbody tr th {\n",
       "        vertical-align: top;\n",
       "    }\n",
       "\n",
       "    .dataframe thead th {\n",
       "        text-align: right;\n",
       "    }\n",
       "</style>\n",
       "<table border=\"1\" class=\"dataframe\">\n",
       "  <thead>\n",
       "    <tr style=\"text-align: right;\">\n",
       "      <th></th>\n",
       "      <th>_id</th>\n",
       "      <th>barcode</th>\n",
       "      <th>category</th>\n",
       "      <th>categoryCode</th>\n",
       "      <th>name</th>\n",
       "      <th>topBrand</th>\n",
       "      <th>brandCode</th>\n",
       "      <th>cpg_ref</th>\n",
       "      <th>cpg_id</th>\n",
       "    </tr>\n",
       "  </thead>\n",
       "  <tbody>\n",
       "    <tr>\n",
       "      <th>0</th>\n",
       "      <td>601ac115be37ce2ead437551</td>\n",
       "      <td>511111019862</td>\n",
       "      <td>Baking</td>\n",
       "      <td>BAKING</td>\n",
       "      <td>test brand @1612366101024</td>\n",
       "      <td>0.0</td>\n",
       "      <td>NaN</td>\n",
       "      <td>Cogs</td>\n",
       "      <td>601ac114be37ce2ead437550</td>\n",
       "    </tr>\n",
       "    <tr>\n",
       "      <th>1</th>\n",
       "      <td>601c5460be37ce2ead43755f</td>\n",
       "      <td>511111519928</td>\n",
       "      <td>Beverages</td>\n",
       "      <td>BEVERAGES</td>\n",
       "      <td>Starbucks</td>\n",
       "      <td>0.0</td>\n",
       "      <td>STARBUCKS</td>\n",
       "      <td>Cogs</td>\n",
       "      <td>5332f5fbe4b03c9a25efd0ba</td>\n",
       "    </tr>\n",
       "    <tr>\n",
       "      <th>2</th>\n",
       "      <td>601ac142be37ce2ead43755d</td>\n",
       "      <td>511111819905</td>\n",
       "      <td>Baking</td>\n",
       "      <td>BAKING</td>\n",
       "      <td>test brand @1612366146176</td>\n",
       "      <td>0.0</td>\n",
       "      <td>TEST BRANDCODE @1612366146176</td>\n",
       "      <td>Cogs</td>\n",
       "      <td>601ac142be37ce2ead437559</td>\n",
       "    </tr>\n",
       "    <tr>\n",
       "      <th>3</th>\n",
       "      <td>601ac142be37ce2ead43755a</td>\n",
       "      <td>511111519874</td>\n",
       "      <td>Baking</td>\n",
       "      <td>BAKING</td>\n",
       "      <td>test brand @1612366146051</td>\n",
       "      <td>0.0</td>\n",
       "      <td>TEST BRANDCODE @1612366146051</td>\n",
       "      <td>Cogs</td>\n",
       "      <td>601ac142be37ce2ead437559</td>\n",
       "    </tr>\n",
       "    <tr>\n",
       "      <th>4</th>\n",
       "      <td>601ac142be37ce2ead43755e</td>\n",
       "      <td>511111319917</td>\n",
       "      <td>Candy &amp; Sweets</td>\n",
       "      <td>CANDY_AND_SWEETS</td>\n",
       "      <td>test brand @1612366146827</td>\n",
       "      <td>0.0</td>\n",
       "      <td>TEST BRANDCODE @1612366146827</td>\n",
       "      <td>Cogs</td>\n",
       "      <td>5332fa12e4b03c9a25efd1e7</td>\n",
       "    </tr>\n",
       "  </tbody>\n",
       "</table>\n",
       "</div>"
      ],
      "text/plain": [
       "                        _id       barcode        category      categoryCode  \\\n",
       "0  601ac115be37ce2ead437551  511111019862          Baking            BAKING   \n",
       "1  601c5460be37ce2ead43755f  511111519928       Beverages         BEVERAGES   \n",
       "2  601ac142be37ce2ead43755d  511111819905          Baking            BAKING   \n",
       "3  601ac142be37ce2ead43755a  511111519874          Baking            BAKING   \n",
       "4  601ac142be37ce2ead43755e  511111319917  Candy & Sweets  CANDY_AND_SWEETS   \n",
       "\n",
       "                        name  topBrand                      brandCode cpg_ref  \\\n",
       "0  test brand @1612366101024       0.0                            NaN    Cogs   \n",
       "1                  Starbucks       0.0                      STARBUCKS    Cogs   \n",
       "2  test brand @1612366146176       0.0  TEST BRANDCODE @1612366146176    Cogs   \n",
       "3  test brand @1612366146051       0.0  TEST BRANDCODE @1612366146051    Cogs   \n",
       "4  test brand @1612366146827       0.0  TEST BRANDCODE @1612366146827    Cogs   \n",
       "\n",
       "                     cpg_id  \n",
       "0  601ac114be37ce2ead437550  \n",
       "1  5332f5fbe4b03c9a25efd0ba  \n",
       "2  601ac142be37ce2ead437559  \n",
       "3  601ac142be37ce2ead437559  \n",
       "4  5332fa12e4b03c9a25efd1e7  "
      ]
     },
     "execution_count": 11,
     "metadata": {},
     "output_type": "execute_result"
    }
   ],
   "source": [
    "df_brand = pd.read_csv('brands.csv')\n",
    "df_brand.head()"
   ]
  },
  {
   "cell_type": "code",
   "execution_count": 12,
   "id": "92a81efe",
   "metadata": {},
   "outputs": [
    {
     "name": "stdout",
     "output_type": "stream",
     "text": [
      "<class 'pandas.core.frame.DataFrame'>\n",
      "RangeIndex: 1167 entries, 0 to 1166\n",
      "Data columns (total 9 columns):\n",
      " #   Column        Non-Null Count  Dtype  \n",
      "---  ------        --------------  -----  \n",
      " 0   _id           1167 non-null   object \n",
      " 1   barcode       1167 non-null   int64  \n",
      " 2   category      1012 non-null   object \n",
      " 3   categoryCode  517 non-null    object \n",
      " 4   name          1167 non-null   object \n",
      " 5   topBrand      555 non-null    float64\n",
      " 6   brandCode     898 non-null    object \n",
      " 7   cpg_ref       1167 non-null   object \n",
      " 8   cpg_id        1167 non-null   object \n",
      "dtypes: float64(1), int64(1), object(7)\n",
      "memory usage: 82.2+ KB\n"
     ]
    }
   ],
   "source": [
    "df_brand.info()"
   ]
  },
  {
   "cell_type": "code",
   "execution_count": 13,
   "id": "41edba0d",
   "metadata": {},
   "outputs": [],
   "source": [
    "# Change type of 'topBrand' from float to bool\n",
    "df_brand['topBrand'] = df_brand['topBrand'].astype(bool)"
   ]
  },
  {
   "cell_type": "markdown",
   "id": "c5ff42dd",
   "metadata": {},
   "source": [
    "## Check Missing Values And Percentage"
   ]
  },
  {
   "cell_type": "code",
   "execution_count": 14,
   "id": "530236a1",
   "metadata": {},
   "outputs": [
    {
     "data": {
      "text/plain": [
       "_id               0\n",
       "barcode           0\n",
       "category        155\n",
       "categoryCode    650\n",
       "name              0\n",
       "topBrand          0\n",
       "brandCode       269\n",
       "cpg_ref           0\n",
       "cpg_id            0\n",
       "dtype: int64"
      ]
     },
     "execution_count": 14,
     "metadata": {},
     "output_type": "execute_result"
    }
   ],
   "source": [
    "# Check missing values\n",
    "df_brand.isnull().sum()\n"
   ]
  },
  {
   "cell_type": "code",
   "execution_count": 15,
   "id": "fef17509",
   "metadata": {},
   "outputs": [
    {
     "name": "stdout",
     "output_type": "stream",
     "text": [
      "category --> 13.28%\n",
      "categoryCode --> 55.70%\n",
      "brandCode --> 23.05%\n"
     ]
    }
   ],
   "source": [
    "null_values_percentage = df_brand.isnull().mean()\n",
    "for key, value in null_values_percentage.items():\n",
    "    if value > 0:\n",
    "        print(key, '-->', format(value, '.2%'))\n"
   ]
  },
  {
   "cell_type": "markdown",
   "id": "e18ab5cc",
   "metadata": {},
   "source": [
    "Data has missing values. The missing value of categoryCode is significantly more than the missing value of category, which is not common. As explained from the point of view of the database, in the category entity, the categoryCode should exist as the primary key. It is uncommon for the primary key to be missing, but the rest of the attribute (category) is still present. Therefore, the missing value of categorycode is less than or equal to the missing value of category is more realistic"
   ]
  },
  {
   "cell_type": "markdown",
   "id": "75372feb",
   "metadata": {},
   "source": [
    "## Check Duplicate"
   ]
  },
  {
   "cell_type": "code",
   "execution_count": 16,
   "id": "f37e8d7b",
   "metadata": {},
   "outputs": [
    {
     "name": "stdout",
     "output_type": "stream",
     "text": [
      "Total row count: \n",
      "_id             1167\n",
      "barcode         1167\n",
      "category        1012\n",
      "categoryCode     517\n",
      "name            1167\n",
      "topBrand        1167\n",
      "brandCode        898\n",
      "cpg_ref         1167\n",
      "cpg_id          1167\n",
      "dtype: int64\n",
      "Total duplicated row count:  \n",
      "_id                0\n",
      "barcode            7\n",
      "category         989\n",
      "categoryCode     503\n",
      "name              11\n",
      "topBrand        1165\n",
      "brandCode          2\n",
      "cpg_ref         1165\n",
      "cpg_id           971\n",
      "dtype: int64\n",
      "Percentage of duplicated row: \n",
      "_id              0.00\n",
      "barcode          0.60\n",
      "category        97.73\n",
      "categoryCode    97.29\n",
      "name             0.94\n",
      "topBrand        99.83\n",
      "brandCode        0.22\n",
      "cpg_ref         99.83\n",
      "cpg_id          83.20\n",
      "dtype: float64\n"
     ]
    }
   ],
   "source": [
    "row_count = df_brand.count()\n",
    "duplicate_row_count = df_brand.count() - df_brand.nunique()\n",
    "percentage = round((duplicate_row_count/row_count)*100, 2)\n",
    "print('Total row count: ')\n",
    "print(row_count)\n",
    "print('Total duplicated row count:  ')\n",
    "print(duplicate_row_count)\n",
    "print('Percentage of duplicated row: ')\n",
    "print(percentage)"
   ]
  },
  {
   "cell_type": "markdown",
   "id": "ad4fc8c0",
   "metadata": {},
   "source": [
    "No duplicated record in this dataset, because the duplicated row count of id is 0"
   ]
  },
  {
   "cell_type": "markdown",
   "id": "028b958d",
   "metadata": {},
   "source": [
    "## Check Unique Objects"
   ]
  },
  {
   "cell_type": "code",
   "execution_count": 17,
   "id": "9e880238",
   "metadata": {},
   "outputs": [
    {
     "data": {
      "text/plain": [
       "array(['Baking', 'Beverages', 'Candy & Sweets', 'Condiments & Sauces',\n",
       "       'Canned Goods & Soups', nan, 'Magazines', 'Breakfast & Cereal',\n",
       "       'Beer Wine Spirits', 'Health & Wellness', 'Beauty', 'Baby',\n",
       "       'Frozen', 'Grocery', 'Snacks', 'Household', 'Personal Care',\n",
       "       'Dairy', 'Cleaning & Home Improvement', 'Deli',\n",
       "       'Beauty & Personal Care', 'Bread & Bakery', 'Outdoor',\n",
       "       'Dairy & Refrigerated'], dtype=object)"
      ]
     },
     "execution_count": 17,
     "metadata": {},
     "output_type": "execute_result"
    }
   ],
   "source": [
    "# Check unique category\n",
    "df_brand['category'].unique()"
   ]
  },
  {
   "cell_type": "markdown",
   "id": "f7e8dde1",
   "metadata": {},
   "source": [
    "Some categories are duplicated or similar:\n",
    "- Baking and Bread & Bakery\n",
    "- Personal Care and Beauty & Personal Care and Beauty\n",
    "- Dairy and Fronzen and Dairy & Refrigerated"
   ]
  },
  {
   "cell_type": "code",
   "execution_count": 18,
   "id": "ad5885a0",
   "metadata": {},
   "outputs": [
    {
     "data": {
      "text/plain": [
       "array(['Bread & Bakery', 'Beverages', 'Candy & Sweets',\n",
       "       'Condiments & Sauces', 'Canned Goods & Soups', nan, 'Magazines',\n",
       "       'Breakfast & Cereal', 'Beer Wine Spirits', 'Health & Wellness',\n",
       "       'Beauty & Personal Care', 'Baby', 'Dairy & Refrigerated',\n",
       "       'Grocery', 'Snacks', 'Household', 'Cleaning & Home Improvement',\n",
       "       'Deli', 'Outdoor'], dtype=object)"
      ]
     },
     "execution_count": 18,
     "metadata": {},
     "output_type": "execute_result"
    }
   ],
   "source": [
    "# Merge similar categories\n",
    "spelling = {'Baking': 'Bread & Bakery', 'Personal Care': 'Beauty & Personal Care',\n",
    "            'Beauty': 'Beauty & Personal Care', 'Dairy': 'Dairy & Refrigerated',\n",
    "            'Frozen': 'Dairy & Refrigerated'}\n",
    "df_brand['category'].replace(spelling, inplace=True)\n",
    "df_brand['category'].unique()"
   ]
  },
  {
   "cell_type": "markdown",
   "id": "1392b33f",
   "metadata": {},
   "source": [
    "## Data Exploratory Analysis"
   ]
  },
  {
   "cell_type": "code",
   "execution_count": 19,
   "id": "b013e950",
   "metadata": {},
   "outputs": [
    {
     "data": {
      "text/html": [
       "<div>\n",
       "<style scoped>\n",
       "    .dataframe tbody tr th:only-of-type {\n",
       "        vertical-align: middle;\n",
       "    }\n",
       "\n",
       "    .dataframe tbody tr th {\n",
       "        vertical-align: top;\n",
       "    }\n",
       "\n",
       "    .dataframe thead th {\n",
       "        text-align: right;\n",
       "    }\n",
       "</style>\n",
       "<table border=\"1\" class=\"dataframe\">\n",
       "  <thead>\n",
       "    <tr style=\"text-align: right;\">\n",
       "      <th></th>\n",
       "      <th>Category</th>\n",
       "      <th>Total Count</th>\n",
       "      <th>Percentage</th>\n",
       "    </tr>\n",
       "  </thead>\n",
       "  <tbody>\n",
       "    <tr>\n",
       "      <th>0</th>\n",
       "      <td>Bread &amp; Bakery</td>\n",
       "      <td>374</td>\n",
       "      <td>32.05%</td>\n",
       "    </tr>\n",
       "    <tr>\n",
       "      <th>1</th>\n",
       "      <td>Beer Wine Spirits</td>\n",
       "      <td>90</td>\n",
       "      <td>7.71%</td>\n",
       "    </tr>\n",
       "    <tr>\n",
       "      <th>2</th>\n",
       "      <td>Snacks</td>\n",
       "      <td>75</td>\n",
       "      <td>6.43%</td>\n",
       "    </tr>\n",
       "    <tr>\n",
       "      <th>3</th>\n",
       "      <td>Candy &amp; Sweets</td>\n",
       "      <td>71</td>\n",
       "      <td>6.08%</td>\n",
       "    </tr>\n",
       "    <tr>\n",
       "      <th>4</th>\n",
       "      <td>Beverages</td>\n",
       "      <td>63</td>\n",
       "      <td>5.40%</td>\n",
       "    </tr>\n",
       "    <tr>\n",
       "      <th>5</th>\n",
       "      <td>Dairy &amp; Refrigerated</td>\n",
       "      <td>62</td>\n",
       "      <td>5.31%</td>\n",
       "    </tr>\n",
       "    <tr>\n",
       "      <th>6</th>\n",
       "      <td>Magazines</td>\n",
       "      <td>44</td>\n",
       "      <td>3.77%</td>\n",
       "    </tr>\n",
       "    <tr>\n",
       "      <th>7</th>\n",
       "      <td>Health &amp; Wellness</td>\n",
       "      <td>44</td>\n",
       "      <td>3.77%</td>\n",
       "    </tr>\n",
       "    <tr>\n",
       "      <th>8</th>\n",
       "      <td>Breakfast &amp; Cereal</td>\n",
       "      <td>40</td>\n",
       "      <td>3.43%</td>\n",
       "    </tr>\n",
       "    <tr>\n",
       "      <th>9</th>\n",
       "      <td>Grocery</td>\n",
       "      <td>39</td>\n",
       "      <td>3.34%</td>\n",
       "    </tr>\n",
       "    <tr>\n",
       "      <th>10</th>\n",
       "      <td>Beauty &amp; Personal Care</td>\n",
       "      <td>35</td>\n",
       "      <td>3.00%</td>\n",
       "    </tr>\n",
       "    <tr>\n",
       "      <th>11</th>\n",
       "      <td>Condiments &amp; Sauces</td>\n",
       "      <td>27</td>\n",
       "      <td>2.31%</td>\n",
       "    </tr>\n",
       "    <tr>\n",
       "      <th>12</th>\n",
       "      <td>Baby</td>\n",
       "      <td>18</td>\n",
       "      <td>1.54%</td>\n",
       "    </tr>\n",
       "    <tr>\n",
       "      <th>13</th>\n",
       "      <td>Canned Goods &amp; Soups</td>\n",
       "      <td>12</td>\n",
       "      <td>1.03%</td>\n",
       "    </tr>\n",
       "    <tr>\n",
       "      <th>14</th>\n",
       "      <td>Deli</td>\n",
       "      <td>6</td>\n",
       "      <td>0.51%</td>\n",
       "    </tr>\n",
       "    <tr>\n",
       "      <th>15</th>\n",
       "      <td>Cleaning &amp; Home Improvement</td>\n",
       "      <td>6</td>\n",
       "      <td>0.51%</td>\n",
       "    </tr>\n",
       "    <tr>\n",
       "      <th>16</th>\n",
       "      <td>Household</td>\n",
       "      <td>5</td>\n",
       "      <td>0.43%</td>\n",
       "    </tr>\n",
       "    <tr>\n",
       "      <th>17</th>\n",
       "      <td>Outdoor</td>\n",
       "      <td>1</td>\n",
       "      <td>0.09%</td>\n",
       "    </tr>\n",
       "  </tbody>\n",
       "</table>\n",
       "</div>"
      ],
      "text/plain": [
       "                       Category  Total Count Percentage\n",
       "0                Bread & Bakery          374     32.05%\n",
       "1             Beer Wine Spirits           90      7.71%\n",
       "2                        Snacks           75      6.43%\n",
       "3                Candy & Sweets           71      6.08%\n",
       "4                     Beverages           63      5.40%\n",
       "5          Dairy & Refrigerated           62      5.31%\n",
       "6                     Magazines           44      3.77%\n",
       "7             Health & Wellness           44      3.77%\n",
       "8            Breakfast & Cereal           40      3.43%\n",
       "9                       Grocery           39      3.34%\n",
       "10       Beauty & Personal Care           35      3.00%\n",
       "11          Condiments & Sauces           27      2.31%\n",
       "12                         Baby           18      1.54%\n",
       "13         Canned Goods & Soups           12      1.03%\n",
       "14                         Deli            6      0.51%\n",
       "15  Cleaning & Home Improvement            6      0.51%\n",
       "16                    Household            5      0.43%\n",
       "17                      Outdoor            1      0.09%"
      ]
     },
     "execution_count": 19,
     "metadata": {},
     "output_type": "execute_result"
    }
   ],
   "source": [
    "# Total count and percentage of each category\n",
    "df2 = df_brand[['category', '_id']].groupby(['category']).agg('count')\n",
    "df2 = df2.sort_values(by='_id', ascending=False)\n",
    "df2_1 = (df_brand['category'].value_counts() / len(df_brand))*100\n",
    "df2_2 = df2_1.map('{:,.2f}%'.format)\n",
    "df2_3 = pd.merge(left=df2, right=df2_2, how='left', left_on=df2.index, right_on=df2_2.index)\n",
    "df2_3 = df2_3.rename(columns={'key_0': 'Category', '_id': 'Total Count', 'category': 'Percentage'})\n",
    "df2_3"
   ]
  },
  {
   "cell_type": "code",
   "execution_count": 20,
   "id": "3c6dd822",
   "metadata": {},
   "outputs": [
    {
     "data": {
      "image/png": "[encoded data removed]",
      "text/plain": [
       "<Figure size 1440x720 with 1 Axes>"
      ]
     },
     "metadata": {
      "needs_background": "light"
     },
     "output_type": "display_data"
    }
   ],
   "source": [
    "# Create bar chart\n",
    "fig, ax = plt.subplots(figsize=(20, 10))\n",
    "ax = sns.barplot(x=df2_3['Total Count'],y=df2_3['Category'])\n",
    "ax.set_xlabel('Total Count', fontsize=15)\n",
    "ax.set_title('Popular Category')\n",
    "plt.show()"
   ]
  },
  {
   "cell_type": "markdown",
   "id": "61635978",
   "metadata": {},
   "source": [
    "The graph show the total count of each category, Bread & Bakery is the most popular category which is significantly higher than other species"
   ]
  },
  {
   "cell_type": "markdown",
   "id": "abd1055a",
   "metadata": {},
   "source": [
    "## Data Quality Issue"
   ]
  },
  {
   "cell_type": "markdown",
   "id": "163ede3e",
   "metadata": {},
   "source": [
    "\n",
    "- The missing value of categoryCode is abnormally higher than the missing value of category\n",
    "- Some categories are duplicated or similar"
   ]
  },
  {
   "cell_type": "markdown",
   "id": "c1edc0f7",
   "metadata": {},
   "source": [
    "# Part 3: Receipts Dataset"
   ]
  },
  {
   "cell_type": "markdown",
   "id": "14d2d881",
   "metadata": {},
   "source": [
    "## Import Dataset"
   ]
  },
  {
   "cell_type": "code",
   "execution_count": 21,
   "id": "e6105cc1",
   "metadata": {
    "scrolled": false
   },
   "outputs": [
    {
     "data": {
      "text/html": [
       "<div>\n",
       "<style scoped>\n",
       "    .dataframe tbody tr th:only-of-type {\n",
       "        vertical-align: middle;\n",
       "    }\n",
       "\n",
       "    .dataframe tbody tr th {\n",
       "        vertical-align: top;\n",
       "    }\n",
       "\n",
       "    .dataframe thead th {\n",
       "        text-align: right;\n",
       "    }\n",
       "</style>\n",
       "<table border=\"1\" class=\"dataframe\">\n",
       "  <thead>\n",
       "    <tr style=\"text-align: right;\">\n",
       "      <th></th>\n",
       "      <th>Unnamed: 0</th>\n",
       "      <th>_id</th>\n",
       "      <th>bonusPointsEarned</th>\n",
       "      <th>bonusPointsEarnedReason</th>\n",
       "      <th>createDate</th>\n",
       "      <th>dateScanned</th>\n",
       "      <th>finishedDate</th>\n",
       "      <th>modifyDate</th>\n",
       "      <th>pointsAwardedDate</th>\n",
       "      <th>pointsEarned</th>\n",
       "      <th>purchaseDate</th>\n",
       "      <th>purchasedItemCount</th>\n",
       "      <th>rewardsReceiptItemList</th>\n",
       "      <th>rewardsReceiptStatus</th>\n",
       "      <th>totalSpent</th>\n",
       "      <th>userId</th>\n",
       "    </tr>\n",
       "  </thead>\n",
       "  <tbody>\n",
       "    <tr>\n",
       "      <th>0</th>\n",
       "      <td>0</td>\n",
       "      <td>{'$oid': '5ff1e1eb0a720f0523000575'}</td>\n",
       "      <td>500.0</td>\n",
       "      <td>Receipt number 2 completed, bonus point schedu...</td>\n",
       "      <td>{'$date': 1609687531000}</td>\n",
       "      <td>{'$date': 1609687531000}</td>\n",
       "      <td>{'$date': 1609687531000}</td>\n",
       "      <td>{'$date': 1609687536000}</td>\n",
       "      <td>{'$date': 1609687531000}</td>\n",
       "      <td>500.0</td>\n",
       "      <td>{'$date': 1609632000000}</td>\n",
       "      <td>5.0</td>\n",
       "      <td>[{'barcode': '4011', 'description': 'ITEM NOT ...</td>\n",
       "      <td>FINISHED</td>\n",
       "      <td>26.0</td>\n",
       "      <td>5ff1e1eacfcf6c399c274ae6</td>\n",
       "    </tr>\n",
       "    <tr>\n",
       "      <th>1</th>\n",
       "      <td>1</td>\n",
       "      <td>{'$oid': '5ff1e1bb0a720f052300056b'}</td>\n",
       "      <td>150.0</td>\n",
       "      <td>Receipt number 5 completed, bonus point schedu...</td>\n",
       "      <td>{'$date': 1609687483000}</td>\n",
       "      <td>{'$date': 1609687483000}</td>\n",
       "      <td>{'$date': 1609687483000}</td>\n",
       "      <td>{'$date': 1609687488000}</td>\n",
       "      <td>{'$date': 1609687483000}</td>\n",
       "      <td>150.0</td>\n",
       "      <td>{'$date': 1609601083000}</td>\n",
       "      <td>2.0</td>\n",
       "      <td>[{'barcode': '4011', 'description': 'ITEM NOT ...</td>\n",
       "      <td>FINISHED</td>\n",
       "      <td>11.0</td>\n",
       "      <td>5ff1e194b6a9d73a3a9f1052</td>\n",
       "    </tr>\n",
       "    <tr>\n",
       "      <th>2</th>\n",
       "      <td>2</td>\n",
       "      <td>{'$oid': '5ff1e1f10a720f052300057a'}</td>\n",
       "      <td>5.0</td>\n",
       "      <td>All-receipts receipt bonus</td>\n",
       "      <td>{'$date': 1609687537000}</td>\n",
       "      <td>{'$date': 1609687537000}</td>\n",
       "      <td>NaN</td>\n",
       "      <td>{'$date': 1609687542000}</td>\n",
       "      <td>NaN</td>\n",
       "      <td>5.0</td>\n",
       "      <td>{'$date': 1609632000000}</td>\n",
       "      <td>1.0</td>\n",
       "      <td>[{'needsFetchReview': False, 'partnerItemId': ...</td>\n",
       "      <td>REJECTED</td>\n",
       "      <td>10.0</td>\n",
       "      <td>5ff1e1f1cfcf6c399c274b0b</td>\n",
       "    </tr>\n",
       "    <tr>\n",
       "      <th>3</th>\n",
       "      <td>3</td>\n",
       "      <td>{'$oid': '5ff1e1ee0a7214ada100056f'}</td>\n",
       "      <td>5.0</td>\n",
       "      <td>All-receipts receipt bonus</td>\n",
       "      <td>{'$date': 1609687534000}</td>\n",
       "      <td>{'$date': 1609687534000}</td>\n",
       "      <td>{'$date': 1609687534000}</td>\n",
       "      <td>{'$date': 1609687539000}</td>\n",
       "      <td>{'$date': 1609687534000}</td>\n",
       "      <td>5.0</td>\n",
       "      <td>{'$date': 1609632000000}</td>\n",
       "      <td>4.0</td>\n",
       "      <td>[{'barcode': '4011', 'description': 'ITEM NOT ...</td>\n",
       "      <td>FINISHED</td>\n",
       "      <td>28.0</td>\n",
       "      <td>5ff1e1eacfcf6c399c274ae6</td>\n",
       "    </tr>\n",
       "    <tr>\n",
       "      <th>4</th>\n",
       "      <td>4</td>\n",
       "      <td>{'$oid': '5ff1e1d20a7214ada1000561'}</td>\n",
       "      <td>5.0</td>\n",
       "      <td>All-receipts receipt bonus</td>\n",
       "      <td>{'$date': 1609687506000}</td>\n",
       "      <td>{'$date': 1609687506000}</td>\n",
       "      <td>{'$date': 1609687511000}</td>\n",
       "      <td>{'$date': 1609687511000}</td>\n",
       "      <td>{'$date': 1609687506000}</td>\n",
       "      <td>5.0</td>\n",
       "      <td>{'$date': 1609601106000}</td>\n",
       "      <td>2.0</td>\n",
       "      <td>[{'barcode': '4011', 'description': 'ITEM NOT ...</td>\n",
       "      <td>FINISHED</td>\n",
       "      <td>1.0</td>\n",
       "      <td>5ff1e194b6a9d73a3a9f1052</td>\n",
       "    </tr>\n",
       "  </tbody>\n",
       "</table>\n",
       "</div>"
      ],
      "text/plain": [
       "   Unnamed: 0                                   _id  bonusPointsEarned  \\\n",
       "0           0  {'$oid': '5ff1e1eb0a720f0523000575'}              500.0   \n",
       "1           1  {'$oid': '5ff1e1bb0a720f052300056b'}              150.0   \n",
       "2           2  {'$oid': '5ff1e1f10a720f052300057a'}                5.0   \n",
       "3           3  {'$oid': '5ff1e1ee0a7214ada100056f'}                5.0   \n",
       "4           4  {'$oid': '5ff1e1d20a7214ada1000561'}                5.0   \n",
       "\n",
       "                             bonusPointsEarnedReason  \\\n",
       "0  Receipt number 2 completed, bonus point schedu...   \n",
       "1  Receipt number 5 completed, bonus point schedu...   \n",
       "2                         All-receipts receipt bonus   \n",
       "3                         All-receipts receipt bonus   \n",
       "4                         All-receipts receipt bonus   \n",
       "\n",
       "                 createDate               dateScanned  \\\n",
       "0  {'$date': 1609687531000}  {'$date': 1609687531000}   \n",
       "1  {'$date': 1609687483000}  {'$date': 1609687483000}   \n",
       "2  {'$date': 1609687537000}  {'$date': 1609687537000}   \n",
       "3  {'$date': 1609687534000}  {'$date': 1609687534000}   \n",
       "4  {'$date': 1609687506000}  {'$date': 1609687506000}   \n",
       "\n",
       "               finishedDate                modifyDate  \\\n",
       "0  {'$date': 1609687531000}  {'$date': 1609687536000}   \n",
       "1  {'$date': 1609687483000}  {'$date': 1609687488000}   \n",
       "2                       NaN  {'$date': 1609687542000}   \n",
       "3  {'$date': 1609687534000}  {'$date': 1609687539000}   \n",
       "4  {'$date': 1609687511000}  {'$date': 1609687511000}   \n",
       "\n",
       "          pointsAwardedDate  pointsEarned              purchaseDate  \\\n",
       "0  {'$date': 1609687531000}         500.0  {'$date': 1609632000000}   \n",
       "1  {'$date': 1609687483000}         150.0  {'$date': 1609601083000}   \n",
       "2                       NaN           5.0  {'$date': 1609632000000}   \n",
       "3  {'$date': 1609687534000}           5.0  {'$date': 1609632000000}   \n",
       "4  {'$date': 1609687506000}           5.0  {'$date': 1609601106000}   \n",
       "\n",
       "   purchasedItemCount                             rewardsReceiptItemList  \\\n",
       "0                 5.0  [{'barcode': '4011', 'description': 'ITEM NOT ...   \n",
       "1                 2.0  [{'barcode': '4011', 'description': 'ITEM NOT ...   \n",
       "2                 1.0  [{'needsFetchReview': False, 'partnerItemId': ...   \n",
       "3                 4.0  [{'barcode': '4011', 'description': 'ITEM NOT ...   \n",
       "4                 2.0  [{'barcode': '4011', 'description': 'ITEM NOT ...   \n",
       "\n",
       "  rewardsReceiptStatus  totalSpent                    userId  \n",
       "0             FINISHED        26.0  5ff1e1eacfcf6c399c274ae6  \n",
       "1             FINISHED        11.0  5ff1e194b6a9d73a3a9f1052  \n",
       "2             REJECTED        10.0  5ff1e1f1cfcf6c399c274b0b  \n",
       "3             FINISHED        28.0  5ff1e1eacfcf6c399c274ae6  \n",
       "4             FINISHED         1.0  5ff1e194b6a9d73a3a9f1052  "
      ]
     },
     "execution_count": 21,
     "metadata": {},
     "output_type": "execute_result"
    }
   ],
   "source": [
    "df_receipt = pd.read_csv('receipt.csv', low_memory=False)\n",
    "df_receipt.head()"
   ]
  },
  {
   "cell_type": "code",
   "execution_count": 22,
   "id": "a3599cd7",
   "metadata": {},
   "outputs": [
    {
     "name": "stdout",
     "output_type": "stream",
     "text": [
      "<class 'pandas.core.frame.DataFrame'>\n",
      "RangeIndex: 1119 entries, 0 to 1118\n",
      "Data columns (total 16 columns):\n",
      " #   Column                   Non-Null Count  Dtype  \n",
      "---  ------                   --------------  -----  \n",
      " 0   Unnamed: 0               1119 non-null   int64  \n",
      " 1   _id                      1119 non-null   object \n",
      " 2   bonusPointsEarned        544 non-null    float64\n",
      " 3   bonusPointsEarnedReason  544 non-null    object \n",
      " 4   createDate               1119 non-null   object \n",
      " 5   dateScanned              1119 non-null   object \n",
      " 6   finishedDate             568 non-null    object \n",
      " 7   modifyDate               1119 non-null   object \n",
      " 8   pointsAwardedDate        537 non-null    object \n",
      " 9   pointsEarned             609 non-null    float64\n",
      " 10  purchaseDate             671 non-null    object \n",
      " 11  purchasedItemCount       635 non-null    float64\n",
      " 12  rewardsReceiptItemList   679 non-null    object \n",
      " 13  rewardsReceiptStatus     1119 non-null   object \n",
      " 14  totalSpent               684 non-null    float64\n",
      " 15  userId                   1119 non-null   object \n",
      "dtypes: float64(4), int64(1), object(11)\n",
      "memory usage: 140.0+ KB\n"
     ]
    }
   ],
   "source": [
    "df_receipt.info()"
   ]
  },
  {
   "cell_type": "markdown",
   "id": "f1726124",
   "metadata": {},
   "source": [
    "## Check Missing Values And Percentage"
   ]
  },
  {
   "cell_type": "code",
   "execution_count": 23,
   "id": "0fdb8c76",
   "metadata": {},
   "outputs": [
    {
     "data": {
      "text/plain": [
       "Unnamed: 0                   0\n",
       "_id                          0\n",
       "bonusPointsEarned          575\n",
       "bonusPointsEarnedReason    575\n",
       "createDate                   0\n",
       "dateScanned                  0\n",
       "finishedDate               551\n",
       "modifyDate                   0\n",
       "pointsAwardedDate          582\n",
       "pointsEarned               510\n",
       "purchaseDate               448\n",
       "purchasedItemCount         484\n",
       "rewardsReceiptItemList     440\n",
       "rewardsReceiptStatus         0\n",
       "totalSpent                 435\n",
       "userId                       0\n",
       "dtype: int64"
      ]
     },
     "execution_count": 23,
     "metadata": {},
     "output_type": "execute_result"
    }
   ],
   "source": [
    "df_receipt.isnull().sum()"
   ]
  },
  {
   "cell_type": "code",
   "execution_count": 24,
   "id": "5ffd495f",
   "metadata": {},
   "outputs": [
    {
     "name": "stdout",
     "output_type": "stream",
     "text": [
      "bonusPointsEarned --> 51.39%\n",
      "bonusPointsEarnedReason --> 51.39%\n",
      "finishedDate --> 49.24%\n",
      "pointsAwardedDate --> 52.01%\n",
      "pointsEarned --> 45.58%\n",
      "purchaseDate --> 40.04%\n",
      "purchasedItemCount --> 43.25%\n",
      "rewardsReceiptItemList --> 39.32%\n",
      "totalSpent --> 38.87%\n"
     ]
    }
   ],
   "source": [
    "# Percentage of missing value\n",
    "null_values_percentage = df_receipt.isnull().mean()\n",
    "for key, value in null_values_percentage.items():\n",
    "    if value > 0:\n",
    "        print(key, '-->', format(value, '.2%'))"
   ]
  },
  {
   "cell_type": "markdown",
   "id": "8907d9e8",
   "metadata": {},
   "source": [
    "The dataset has many missing values. 9 of the 15 columns have missing values. However, according to the content of the dataset, 0 still has meaning in many columns, such as bonusPointsEarned, bonusPointsEarnedReason, so the actual missing values should be less than the data shows. However, there are still problems in the data. The missing value of pointsAwardedDate is higher than that of pointsEarned, indicating that there are indeed missing values in the pointsAwardedDate column."
   ]
  },
  {
   "cell_type": "markdown",
   "id": "47d9c278",
   "metadata": {},
   "source": [
    "## Check Duplicate\n"
   ]
  },
  {
   "cell_type": "code",
   "execution_count": 25,
   "id": "71c6d356",
   "metadata": {},
   "outputs": [
    {
     "name": "stdout",
     "output_type": "stream",
     "text": [
      "Total row count: \n",
      "Unnamed: 0                 1119\n",
      "_id                        1119\n",
      "bonusPointsEarned           544\n",
      "bonusPointsEarnedReason     544\n",
      "createDate                 1119\n",
      "dateScanned                1119\n",
      "finishedDate                568\n",
      "modifyDate                 1119\n",
      "pointsAwardedDate           537\n",
      "pointsEarned                609\n",
      "purchaseDate                671\n",
      "purchasedItemCount          635\n",
      "rewardsReceiptItemList      679\n",
      "rewardsReceiptStatus       1119\n",
      "totalSpent                  684\n",
      "userId                     1119\n",
      "dtype: int64\n",
      "Total duplicated row count:  \n",
      "Unnamed: 0                    0\n",
      "_id                           0\n",
      "bonusPointsEarned           532\n",
      "bonusPointsEarnedReason     535\n",
      "createDate                   12\n",
      "dateScanned                  12\n",
      "finishedDate                 15\n",
      "modifyDate                   15\n",
      "pointsAwardedDate            14\n",
      "pointsEarned                490\n",
      "purchaseDate                313\n",
      "purchasedItemCount          585\n",
      "rewardsReceiptItemList      296\n",
      "rewardsReceiptStatus       1114\n",
      "totalSpent                  590\n",
      "userId                      861\n",
      "dtype: int64\n",
      "Percentage of duplicated row: \n",
      "Unnamed: 0                  0.00\n",
      "_id                         0.00\n",
      "bonusPointsEarned          97.79\n",
      "bonusPointsEarnedReason    98.35\n",
      "createDate                  1.07\n",
      "dateScanned                 1.07\n",
      "finishedDate                2.64\n",
      "modifyDate                  1.34\n",
      "pointsAwardedDate           2.61\n",
      "pointsEarned               80.46\n",
      "purchaseDate               46.65\n",
      "purchasedItemCount         92.13\n",
      "rewardsReceiptItemList     43.59\n",
      "rewardsReceiptStatus       99.55\n",
      "totalSpent                 86.26\n",
      "userId                     76.94\n",
      "dtype: float64\n"
     ]
    }
   ],
   "source": [
    "row_count = df_receipt.count()\n",
    "duplicate_row_count = df_receipt.count() - df_receipt.nunique()\n",
    "percentage = round((duplicate_row_count/row_count)*100, 2)\n",
    "print('Total row count: ')\n",
    "print(row_count)\n",
    "print('Total duplicated row count:  ')\n",
    "print(duplicate_row_count)\n",
    "print('Percentage of duplicated row: ')\n",
    "print(percentage)"
   ]
  },
  {
   "cell_type": "markdown",
   "id": "437243ab",
   "metadata": {},
   "source": [
    "No duplicated record in this dataset, because the duplicated row count of id is 0"
   ]
  },
  {
   "cell_type": "markdown",
   "id": "39092aa7",
   "metadata": {},
   "source": [
    "## Data Exploratory Analysis"
   ]
  },
  {
   "cell_type": "code",
   "execution_count": 26,
   "id": "022cdba3",
   "metadata": {
    "scrolled": false
   },
   "outputs": [
    {
     "data": {
      "image/png": "[encoded data removed]",
      "text/plain": [
       "<Figure size 720x720 with 4 Axes>"
      ]
     },
     "metadata": {
      "needs_background": "light"
     },
     "output_type": "display_data"
    }
   ],
   "source": [
    "# Check feature distributions\n",
    "fig, ax = plt.subplots(nrows=2, ncols=2, figsize=(10,10))\n",
    "ax = ax.flatten() #allows axes to be looped over\n",
    "plt.suptitle(\"Feature Distributions\", fontsize=20)\n",
    "for x, i in enumerate(df_receipt[['pointsEarned', 'bonusPointsEarned', 'purchasedItemCount', 'totalSpent']]):\n",
    "    sns.histplot(df_receipt[i], ax = ax[x], kde=True, palette=\"Blues\")"
   ]
  },
  {
   "cell_type": "markdown",
   "id": "c5a896fd",
   "metadata": {},
   "source": [
    "The data distribution is not uniform, where bonusPointsEarned does not exhibit a normal distribution. pointsEarned, purchasedItemCount, totalSpent present a right-skewed distribution"
   ]
  },
  {
   "cell_type": "code",
   "execution_count": 27,
   "id": "884e0359",
   "metadata": {},
   "outputs": [],
   "source": [
    "# Check corr between pointsEarned, bounsPointsEarned with the amount and count of the purchase\n",
    "selected_columns = df_receipt.columns[2:]\n",
    "corr_matrix = df_receipt[selected_columns].corr()"
   ]
  },
  {
   "cell_type": "code",
   "execution_count": 28,
   "id": "00d52ca8",
   "metadata": {},
   "outputs": [
    {
     "data": {
      "image/png": "[encoded data removed]",
      "text/plain": [
       "<Figure size 720x432 with 2 Axes>"
      ]
     },
     "metadata": {
      "needs_background": "light"
     },
     "output_type": "display_data"
    }
   ],
   "source": [
    "plt.figure(figsize=(10,6))\n",
    "mask = np.zeros_like(corr_matrix)\n",
    "mask[np.triu_indices_from(mask)] = True\n",
    "with sns.axes_style('white'):\n",
    "    sns.heatmap(corr_matrix, annot=True, cmap='rainbow', mask=mask)\n",
    "plt.xticks(rotation=45)\n",
    "plt.show()"
   ]
  },
  {
   "cell_type": "markdown",
   "id": "c2876dd9",
   "metadata": {},
   "source": [
    "There is not a significant correlation between pointsEarned, bounsPointsEarned with the amount and count of the purchase"
   ]
  },
  {
   "cell_type": "markdown",
   "id": "afb134d5",
   "metadata": {},
   "source": [
    "## Data quality issue"
   ]
  },
  {
   "cell_type": "markdown",
   "id": "95fbb5a8",
   "metadata": {},
   "source": [
    "- There are many missing values in the dataset, but because 0 has meaning in some columns, the actual missing values are less than the missing values presented by the calculation. But still has problem like the missing value of pointsAwardedDate is more than that of pointsEarned, indicating that there are indeed missing values in the pointsAwardedDate column\n",
    "- The data distribution is not uniform. Exhibit right-skewed distribution or not exhibit a normal distribution"
   ]
  },
  {
   "cell_type": "markdown",
   "id": "f0a5531f",
   "metadata": {},
   "source": [
    "## Colcusion\n"
   ]
  },
  {
   "cell_type": "markdown",
   "id": "fd46d509",
   "metadata": {},
   "source": [
    "- The main data quality problem is that there are too many missing values in the dataset. \n",
    "- In addition:\n",
    "    - Users dataset has lots of duplicate \n",
    "    - Brands dataset has duplicate in category column\n",
    "    - Receipts dataset exhibits uneven data distribution"
   ]
  },
  {
   "cell_type": "code",
   "execution_count": null,
   "id": "325ea5f6",
   "metadata": {},
   "outputs": [],
   "source": []
  }
 ],
 "metadata": {
  "kernelspec": {
   "display_name": "Python 3 (ipykernel)",
   "language": "python",
   "name": "python3"
  },
  "language_info": {
   "codemirror_mode": {
    "name": "ipython",
    "version": 3
   },
   "file_extension": ".py",
   "mimetype": "text/x-python",
   "name": "python",
   "nbconvert_exporter": "python",
   "pygments_lexer": "ipython3",
   "version": "3.8.8"
  }
 },
 "nbformat": 4,
 "nbformat_minor": 5
}
